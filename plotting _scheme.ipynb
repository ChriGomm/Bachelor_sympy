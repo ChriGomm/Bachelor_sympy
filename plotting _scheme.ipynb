{
 "cells": [
  {
   "cell_type": "code",
   "execution_count": 2,
   "metadata": {},
   "outputs": [],
   "source": [
    "import numpy as np\n",
    "import matplotlib.pyplot as plt\n",
    "import matplotlib.ticker as ticker"
   ]
  },
  {
   "cell_type": "code",
   "execution_count": null,
   "metadata": {},
   "outputs": [],
   "source": [
    "import numpy as np\n",
    "import matplotlib.pyplot as plt\n",
    "import matplotlib.ticker as ticker\n",
    "cm = 1/2.54  \n",
    "width = 8*cm \n",
    "name_of_plot = \"plot\"\n",
    "major_xtick_step = 0.25\n",
    "minor_xtick_step = 0.05\n",
    "major_ytick_step = 1\n",
    "minor_ytick_step = 0.1\n",
    "STRIP_OF_ZEROS_X = True\n",
    "STRIP_OF_ZEROS_Y = True\n",
    "                                                                              \n",
    "fig, ax = plt.subplots(1,1,layout='constrained',figsize=(width,4.8/6.4*width),dpi=400)\n",
    "\n",
    "# axlimits have to be adapted\n",
    "ax.set_xlim(-0.5,0)\n",
    "ax.set_ylim(0,2)\n",
    "\n",
    "# legend has to be adapted\n",
    "plt.legend([r'$(F+B)(\\Gamma A)$',r'$B(\\Gamma A)$'],loc='right',bbox_to_anchor=(1,0.7))\n",
    "\n",
    "plt.rcParams[\"axes.unicode_minus\"]=True\n",
    "plt.rcParams[\"font.size\"]=10\n",
    "plt.rcParams[\"text.usetex\"]=True\n",
    "plt.rcParams[\"font.serif\"]=\"Computer Modern Serif\"\n",
    "def strip0(x,pos):\n",
    "    if x<0: \n",
    "        return u'\\u2212'+ str(x).rstrip(\".0\").lstrip(\"-\")\n",
    "    else:\n",
    "        if str(x).rstrip(\".0\"):\n",
    "            return str(x).rstrip(\".0\")\n",
    "    return \"0\"\n",
    "ax.yaxis.set_major_locator(ticker.MultipleLocator(major_ytick_step))\n",
    "ax.yaxis.set_minor_locator(ticker.MultipleLocator(minor_ytick_step))\n",
    "ax.xaxis.set_major_locator(ticker.MultipleLocator(major_xtick_step))\n",
    "ax.xaxis.set_minor_locator(ticker.MultipleLocator(minor_xtick_step))\n",
    "if STRIP_OF_ZEROS_X:\n",
    "    ax.xaxis.set_major_fmatter(ticker.FuncFormatter(strip0))\n",
    "if STRIP_OF_ZEROS_Y:\n",
    "    ax.yaxis.set_major_fmatter(ticker.FuncFormatter(strip0))  \n",
    "ax.tick_params(axis='x',direction='in',which='both',bottom=True,top=True,labelbottom=True)\n",
    "ax.tick_params(axis='both',which='major',length=4.5)\n",
    "ax.tick_params(axis='y',direction='in',which='both',left=True,right=True,labelleft=True)\n",
    "ax.set_xlabel(r'$\\Gamma A$')\n",
    "plt.setp(ax.yaxis.get_majorticklabels(),va='bottom')\n",
    "\n",
    "\n",
    "# save figure\n",
    "# plt.savefig('/home/christian/Documents/Bachelor/protocol/'+name_of_plot,bbox_inches='tight')"
   ]
  }
 ],
 "metadata": {
  "kernelspec": {
   "display_name": "Python 3",
   "language": "python",
   "name": "python3"
  },
  "language_info": {
   "codemirror_mode": {
    "name": "ipython",
    "version": 3
   },
   "file_extension": ".py",
   "mimetype": "text/x-python",
   "name": "python",
   "nbconvert_exporter": "python",
   "pygments_lexer": "ipython3",
   "version": "3.12.3"
  }
 },
 "nbformat": 4,
 "nbformat_minor": 2
}
